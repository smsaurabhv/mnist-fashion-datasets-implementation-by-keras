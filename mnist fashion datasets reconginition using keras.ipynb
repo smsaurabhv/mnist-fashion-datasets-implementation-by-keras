{
 "cells": [
  {
   "cell_type": "code",
   "execution_count": 1,
   "metadata": {},
   "outputs": [
    {
     "name": "stderr",
     "output_type": "stream",
     "text": [
      "C:\\Users\\smsaurabhv\\Anaconda3\\lib\\site-packages\\h5py\\__init__.py:36: FutureWarning: Conversion of the second argument of issubdtype from `float` to `np.floating` is deprecated. In future, it will be treated as `np.float64 == np.dtype(float).type`.\n",
      "  from ._conv import register_converters as _register_converters\n",
      "Using TensorFlow backend.\n"
     ]
    }
   ],
   "source": [
    "# CNN FOR MNIST DATASETS\n",
    "import keras\n",
    "from keras.models import Sequential\n",
    "from keras.layers import Conv2D, MaxPooling2D\n",
    "from keras.layers import Dense, Dropout, Flatten\n",
    "import pydot\n",
    "from IPython.display import SVG\n",
    "from keras.utils.vis_utils import model_to_dot\n",
    "from keras.utils import plot_model\n",
    "from keras.preprocessing import image\n",
    "from matplotlib.pyplot import imshow\n",
    "import numpy as np"
   ]
  },
  {
   "cell_type": "code",
   "execution_count": 2,
   "metadata": {},
   "outputs": [],
   "source": [
    "from keras.datasets import fashion_mnist\n",
    "\n",
    "(x_train, y_train), (x_test, y_test) = fashion_mnist.load_data()"
   ]
  },
  {
   "cell_type": "code",
   "execution_count": 3,
   "metadata": {},
   "outputs": [],
   "source": [
    " %matplotlib inline"
   ]
  },
  {
   "cell_type": "code",
   "execution_count": 4,
   "metadata": {},
   "outputs": [
    {
     "name": "stdout",
     "output_type": "stream",
     "text": [
      "shape of x_xtrain images\n",
      "(60000, 28, 28)\n",
      "total num of images in datasets\n",
      "60000\n",
      "height of image\n",
      "28\n",
      "width of image\n",
      "28\n"
     ]
    }
   ],
   "source": [
    "shapeoftraindatasets =x_train.shape\n",
    "train_example = shapeoftraindatasets[0]\n",
    "heightofimage = shapeoftraindatasets[1]\n",
    "widthofimage =shapeoftraindatasets[2]\n",
    "print(\"shape of x_xtrain images\")\n",
    "print(shapeoftraindatasets)\n",
    "print(\"total num of images in datasets\")\n",
    "print(train_example)\n",
    "print(\"height of image\")\n",
    "print(heightofimage)\n",
    "print(\"width of image\")\n",
    "print(widthofimage)"
   ]
  },
  {
   "cell_type": "code",
   "execution_count": 5,
   "metadata": {},
   "outputs": [
    {
     "data": {
      "text/plain": [
       "<matplotlib.figure.Figure at 0x1945eb71a90>"
      ]
     },
     "metadata": {},
     "output_type": "display_data"
    }
   ],
   "source": [
    "# print some pics from datasets\n",
    "from matplotlib import pyplot as plt\n",
    "fig = plt.figure()"
   ]
  },
  {
   "cell_type": "code",
   "execution_count": 6,
   "metadata": {},
   "outputs": [
    {
     "data": {
      "image/png": "[encoded data removed]",
      "text/plain": [
       "<matplotlib.figure.Figure at 0x1945ebb9da0>"
      ]
     },
     "metadata": {},
     "output_type": "display_data"
    },
    {
     "data": {
      "image/png": "[encoded data removed]",
      "text/plain": [
       "<matplotlib.figure.Figure at 0x1946b3a96a0>"
      ]
     },
     "metadata": {},
     "output_type": "display_data"
    },
    {
     "data": {
      "image/png": "[encoded data removed]",
      "text/plain": [
       "<matplotlib.figure.Figure at 0x1946b418a20>"
      ]
     },
     "metadata": {},
     "output_type": "display_data"
    },
    {
     "data": {
      "image/png": "[encoded data removed]",
      "text/plain": [
       "<matplotlib.figure.Figure at 0x1946b47d470>"
      ]
     },
     "metadata": {},
     "output_type": "display_data"
    }
   ],
   "source": [
    "m=[]\n",
    "for i  in range(4):\n",
    "    plt.imshow(x_train[i], interpolation='nearest')\n",
    "    m.append(x_train[i])\n",
    "    plt.show()"
   ]
  },
  {
   "cell_type": "code",
   "execution_count": 7,
   "metadata": {},
   "outputs": [
    {
     "name": "stdout",
     "output_type": "stream",
     "text": [
      "y_train in images\n",
      "[9 0 0 ... 3 0 5]\n"
     ]
    }
   ],
   "source": [
    "print(\"y_train in images\")\n",
    "print(y_train)"
   ]
  },
  {
   "cell_type": "code",
   "execution_count": 8,
   "metadata": {},
   "outputs": [],
   "source": [
    "# normalizing images \n",
    "x_train = x_train/255.0\n",
    "x_test = x_test/255.0\n",
    "x_train=x_train.reshape(x_train.shape[0],28,28,1)\n",
    "x_test=x_test.reshape(x_test.shape[0],28,28,1)"
   ]
  },
  {
   "cell_type": "code",
   "execution_count": 9,
   "metadata": {},
   "outputs": [],
   "source": [
    "inputshape = x_train.shape[1:]\n",
    "numclass=10"
   ]
  },
  {
   "cell_type": "code",
   "execution_count": 10,
   "metadata": {},
   "outputs": [
    {
     "name": "stdout",
     "output_type": "stream",
     "text": [
      "(28, 28, 1)\n",
      "(60000, 10)\n",
      "(10000, 10)\n"
     ]
    }
   ],
   "source": [
    "print(inputshape)\n",
    "y_train = keras.utils.to_categorical(y_train, numclass)\n",
    "y_test = keras.utils.to_categorical(y_test, numclass)\n",
    "print(y_train.shape)\n",
    "print(y_test.shape)\n"
   ]
  },
  {
   "cell_type": "code",
   "execution_count": 11,
   "metadata": {},
   "outputs": [],
   "source": [
    "#define hyper parameters\n",
    "batchsize=128\n",
    "epoch=12\n"
   ]
  },
  {
   "cell_type": "code",
   "execution_count": 12,
   "metadata": {},
   "outputs": [
    {
     "name": "stdout",
     "output_type": "stream",
     "text": [
      "Train on 60000 samples, validate on 10000 samples\n",
      "Epoch 1/12\n",
      "60000/60000 [==============================] - 204s 3ms/step - loss: 0.5653 - acc: 0.7969 - val_loss: 0.3697 - val_acc: 0.8619\n",
      "Epoch 2/12\n",
      "60000/60000 [==============================] - 209s 3ms/step - loss: 0.3611 - acc: 0.8701 - val_loss: 0.3130 - val_acc: 0.8848\n",
      "Epoch 3/12\n",
      "60000/60000 [==============================] - 201s 3ms/step - loss: 0.3137 - acc: 0.8884 - val_loss: 0.2850 - val_acc: 0.8936\n",
      "Epoch 4/12\n",
      "60000/60000 [==============================] - 208s 3ms/step - loss: 0.2802 - acc: 0.8990 - val_loss: 0.2608 - val_acc: 0.9026\n",
      "Epoch 5/12\n",
      "60000/60000 [==============================] - 205s 3ms/step - loss: 0.2570 - acc: 0.9074 - val_loss: 0.2507 - val_acc: 0.9095\n",
      "Epoch 6/12\n",
      "60000/60000 [==============================] - 208s 3ms/step - loss: 0.2380 - acc: 0.9138 - val_loss: 0.2372 - val_acc: 0.9123\n",
      "Epoch 7/12\n",
      "60000/60000 [==============================] - 202s 3ms/step - loss: 0.2239 - acc: 0.9185 - val_loss: 0.2325 - val_acc: 0.9142\n",
      "Epoch 8/12\n",
      "60000/60000 [==============================] - 185s 3ms/step - loss: 0.2117 - acc: 0.9234 - val_loss: 0.2348 - val_acc: 0.9159\n",
      "Epoch 9/12\n",
      "60000/60000 [==============================] - 194s 3ms/step - loss: 0.1986 - acc: 0.9292 - val_loss: 0.2226 - val_acc: 0.9192\n",
      "Epoch 10/12\n",
      "60000/60000 [==============================] - 176s 3ms/step - loss: 0.1875 - acc: 0.9324 - val_loss: 0.2235 - val_acc: 0.9228\n",
      "Epoch 11/12\n",
      "60000/60000 [==============================] - 174s 3ms/step - loss: 0.1798 - acc: 0.9356 - val_loss: 0.2142 - val_acc: 0.9235\n",
      "Epoch 12/12\n",
      "60000/60000 [==============================] - 168s 3ms/step - loss: 0.1703 - acc: 0.9379 - val_loss: 0.2291 - val_acc: 0.9215\n"
     ]
    },
    {
     "data": {
      "text/plain": [
       "<keras.callbacks.History at 0x1946af1fb70>"
      ]
     },
     "execution_count": 12,
     "metadata": {},
     "output_type": "execute_result"
    }
   ],
   "source": [
    "model = Sequential()\n",
    "model.add(Conv2D(32, kernel_size=(3, 3),activation='relu',input_shape=inputshape))\n",
    "model.add(Conv2D(64, (3, 3), activation='relu'))\n",
    "model.add(MaxPooling2D(pool_size=(2, 2)))\n",
    "model.add(Dropout(0.25))\n",
    "model.add(Flatten())\n",
    "model.add(Dense(128, activation='relu'))\n",
    "model.add(Dropout(0.5))\n",
    "model.add(Dense(numclass, activation='softmax'))\n",
    "model.compile(loss=keras.losses.categorical_crossentropy,optimizer=keras.optimizers.Adadelta(),metrics=['accuracy'])\n",
    "model.fit(x_train, y_train, batch_size=batchsize,epochs=epoch,verbose=1,validation_data=(x_test, y_test))"
   ]
  },
  {
   "cell_type": "code",
   "execution_count": 14,
   "metadata": {},
   "outputs": [
    {
     "name": "stdout",
     "output_type": "stream",
     "text": [
      "_________________________________________________________________\n",
      "Layer (type)                 Output Shape              Param #   \n",
      "=================================================================\n",
      "conv2d_3 (Conv2D)            (None, 26, 26, 32)        320       \n",
      "_________________________________________________________________\n",
      "conv2d_4 (Conv2D)            (None, 24, 24, 64)        18496     \n",
      "_________________________________________________________________\n",
      "max_pooling2d_2 (MaxPooling2 (None, 12, 12, 64)        0         \n",
      "_________________________________________________________________\n",
      "flatten_2 (Flatten)          (None, 9216)              0         \n",
      "_________________________________________________________________\n",
      "dense_3 (Dense)              (None, 128)               1179776   \n",
      "_________________________________________________________________\n",
      "dense_4 (Dense)              (None, 10)                1290      \n",
      "=================================================================\n",
      "Total params: 1,199,882\n",
      "Trainable params: 1,199,882\n",
      "Non-trainable params: 0\n",
      "_________________________________________________________________\n"
     ]
    }
   ],
   "source": [
    "model.summary()"
   ]
  },
  {
   "cell_type": "code",
   "execution_count": 44,
   "metadata": {},
   "outputs": [],
   "source": [
    "dictobject ={\n",
    "    \"[[1. 0. 0. 0. 0. 0. 0. 0. 0. 0.]]\":\"T-shirt/top\",\n",
    "    \"[[0. 1. 0. 0. 0. 0. 0. 0. 0. 0.]]\":\"Trouser\",\n",
    "    \"[[0. 0. 1. 0. 0. 0. 0. 0. 0. 0.]]\":\"Pullover\",\n",
    "    \"[[0. 0. 0. 1. 0. 0. 0. 0. 0. 0.]]\":\"Dress\",\n",
    "    \"[[0. 0. 0. 0. 1. 0. 0. 0. 0. 0.]]\":\"Coat\",\n",
    "    \"[[0. 0. 0. 0. 0. 1. 0. 0. 0. 0.]]\":\"Sandal\",\n",
    "    \"[[0. 0. 0. 0. 0. 0. 1. 0. 0. 0.]]\":\"Shirt\",\n",
    "    \"[[0. 0. 0. 0. 0. 0. 0. 1. 0. 0.]]\":\"Sneaker\",\n",
    "    \"[[0. 0. 0. 0. 0. 0. 0. 0. 1. 0.]]\":\"bag\",\n",
    "    \"[[0. 0. 0. 0. 0. 0. 0. 0. 0. 1.]]\":\"Ankle boot\"\n",
    "    \n",
    "    \n",
    "}"
   ]
  },
  {
   "cell_type": "code",
   "execution_count": 45,
   "metadata": {},
   "outputs": [
    {
     "name": "stdout",
     "output_type": "stream",
     "text": [
      "(28, 28, 3)\n",
      "(1, 28, 28, 1)\n",
      "[[0. 0. 1. 0. 0. 0. 0. 0. 0. 0.]]\n",
      "Pullover\n"
     ]
    },
    {
     "data": {
      "image/png": "[encoded data removed]",
      "text/plain": [
       "<matplotlib.figure.Figure at 0x1947148e668>"
      ]
     },
     "metadata": {},
     "output_type": "display_data"
    }
   ],
   "source": [
    "img_path = 'mnist1.jpg'\n",
    "img = image.load_img(img_path, target_size=(28, 28))\n",
    "x = np.array(image.img_to_array(img))\n",
    "print(x.shape)\n",
    "x=x[:,:,2]\n",
    "imshow(x)\n",
    "x=x.reshape(28,28,1)\n",
    "x = np.expand_dims(x, axis=0)\n",
    "print(x.shape)\n",
    "print(model.predict(x))\n",
    "try:\n",
    "    print(dictobject[str(model.predict(x))])\n",
    "except:\n",
    "    print(\"no object trained\")"
   ]
  },
  {
   "cell_type": "code",
   "execution_count": 46,
   "metadata": {},
   "outputs": [
    {
     "name": "stdout",
     "output_type": "stream",
     "text": [
      "(28, 28, 3)\n",
      "(1, 28, 28, 1)\n",
      "[[0. 0. 0. 0. 0. 0. 0. 0. 1. 0.]]\n",
      "bag\n"
     ]
    },
    {
     "data": {
      "image/png": "[encoded data removed]",
      "text/plain": [
       "<matplotlib.figure.Figure at 0x194723863c8>"
      ]
     },
     "metadata": {},
     "output_type": "display_data"
    }
   ],
   "source": [
    "img_path = 'mnist2.jpg'\n",
    "img = image.load_img(img_path, target_size=(28, 28))\n",
    "x = np.array(image.img_to_array(img))\n",
    "print(x.shape)\n",
    "x=x[:,:,2]\n",
    "imshow(x)\n",
    "x=x.reshape(28,28,1)\n",
    "x = np.expand_dims(x, axis=0)\n",
    "print(x.shape)\n",
    "print(model.predict(x))\n",
    "try:\n",
    "    print(dictobject[str(model.predict(x))])\n",
    "except:\n",
    "    print(\"no object trained\")"
   ]
  },
  {
   "cell_type": "code",
   "execution_count": 47,
   "metadata": {},
   "outputs": [
    {
     "name": "stdout",
     "output_type": "stream",
     "text": [
      "(1, 28, 28, 1)\n",
      "[[0. 0. 0. 0. 0. 0. 0. 0. 1. 0.]]\n",
      "bag\n"
     ]
    },
    {
     "data": {
      "image/png": "[encoded data removed]",
      "text/plain": [
       "<matplotlib.figure.Figure at 0x19472386b38>"
      ]
     },
     "metadata": {},
     "output_type": "display_data"
    }
   ],
   "source": [
    "imshow(m[0])\n",
    "x=x.reshape(28,28,1)\n",
    "x = np.expand_dims(x, axis=0)\n",
    "print(x.shape)\n",
    "print(model.predict(x))\n",
    "try:\n",
    "    print(dictobject[str(model.predict(x))])\n",
    "except:\n",
    "    print(\"no object trained\")"
   ]
  },
  {
   "cell_type": "code",
   "execution_count": 48,
   "metadata": {},
   "outputs": [
    {
     "name": "stdout",
     "output_type": "stream",
     "text": [
      "(28, 28, 3)\n",
      "(1, 28, 28, 1)\n",
      "[[0. 0. 1. 0. 0. 0. 0. 0. 0. 0.]]\n",
      "Pullover\n"
     ]
    },
    {
     "data": {
      "image/png": "[encoded data removed]",
      "text/plain": [
       "<matplotlib.figure.Figure at 0x1947131f8d0>"
      ]
     },
     "metadata": {},
     "output_type": "display_data"
    }
   ],
   "source": [
    "img_path = 'mnist5.jpg'\n",
    "img = image.load_img(img_path, target_size=(28, 28))\n",
    "x = np.array(image.img_to_array(img))\n",
    "print(x.shape)\n",
    "x=x[:,:,2]\n",
    "imshow(x)\n",
    "x=x.reshape(28,28,1)\n",
    "x = np.expand_dims(x, axis=0)\n",
    "print(x.shape)\n",
    "print(model.predict(x))\n",
    "try:\n",
    "    print(dictobject[str(model.predict(x))])\n",
    "except:\n",
    "    print(\"no object trained\")"
   ]
  },
  {
   "cell_type": "code",
   "execution_count": 49,
   "metadata": {},
   "outputs": [
    {
     "name": "stdout",
     "output_type": "stream",
     "text": [
      "(28, 28, 3)\n",
      "(1, 28, 28, 1)\n",
      "[[0. 0. 1. 0. 0. 0. 0. 0. 0. 0.]]\n",
      "Pullover\n"
     ]
    },
    {
     "data": {
      "image/png": "[encoded data removed]",
      "text/plain": [
       "<matplotlib.figure.Figure at 0x1947126f978>"
      ]
     },
     "metadata": {},
     "output_type": "display_data"
    }
   ],
   "source": [
    "img_path = 'mnist6.jpg'\n",
    "img = image.load_img(img_path, target_size=(28, 28))\n",
    "x = np.array(image.img_to_array(img))\n",
    "print(x.shape)\n",
    "x=x[:,:,1]\n",
    "imshow(x)\n",
    "x=x.reshape(28,28,1)\n",
    "x = np.expand_dims(x, axis=0)\n",
    "print(x.shape)\n",
    "print(model.predict(x))\n",
    "try:\n",
    "    print(dictobject[str(model.predict(x))])\n",
    "except:\n",
    "    print(\"no object trained\")"
   ]
  },
  {
   "cell_type": "code",
   "execution_count": 41,
   "metadata": {},
   "outputs": [
    {
     "name": "stdout",
     "output_type": "stream",
     "text": [
      "(28, 28)\n",
      "(1, 28, 28, 1)\n",
      "[[1.0000000e+00 0.0000000e+00 0.0000000e+00 0.0000000e+00 0.0000000e+00\n",
      "  0.0000000e+00 4.4532768e-24 0.0000000e+00 0.0000000e+00 0.0000000e+00]]\n",
      "no object trained\n"
     ]
    },
    {
     "data": {
      "image/png": "[encoded data removed]",
      "text/plain": [
       "<matplotlib.figure.Figure at 0x19472401da0>"
      ]
     },
     "metadata": {},
     "output_type": "display_data"
    }
   ],
   "source": [
    "img_path = 'mnist7.jpg'\n",
    "img = image.load_img(img_path, target_size=(28, 28))\n",
    "x = m[2]\n",
    "print(x.shape)\n",
    "x=x[:,:]\n",
    "imshow(x)\n",
    "x=x.reshape(28,28,1)\n",
    "x = np.expand_dims(x, axis=0)\n",
    "print(x.shape)\n",
    "print(model.predict(x))\n",
    "try:\n",
    "    print(dictobject[str(model.predict(x))])\n",
    "except:\n",
    "    print(\"no object trained\")"
   ]
  },
  {
   "cell_type": "code",
   "execution_count": null,
   "metadata": {},
   "outputs": [],
   "source": []
  }
 ],
 "metadata": {
  "kernelspec": {
   "display_name": "Python 3",
   "language": "python",
   "name": "python3"
  },
  "language_info": {
   "codemirror_mode": {
    "name": "ipython",
    "version": 3
   },
   "file_extension": ".py",
   "mimetype": "text/x-python",
   "name": "python",
   "nbconvert_exporter": "python",
   "pygments_lexer": "ipython3",
   "version": "3.6.4"
  }
 },
 "nbformat": 4,
 "nbformat_minor": 2
}
